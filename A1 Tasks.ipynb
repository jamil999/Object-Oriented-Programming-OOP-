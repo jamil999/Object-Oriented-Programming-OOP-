{
 "cells": [
  {
   "cell_type": "markdown",
   "metadata": {},
   "source": [
    "# String related problems"
   ]
  },
  {
   "cell_type": "code",
   "execution_count": 6,
   "metadata": {},
   "outputs": [
    {
     "name": "stdout",
     "output_type": "stream",
     "text": [
      "Enter a string:BaNaNa\n",
      "banana\n"
     ]
    }
   ],
   "source": [
    "#task_1\n",
    "string=input('Enter a string:')\n",
    "up=0\n",
    "low=0\n",
    "for index in string:\n",
    "    value=ord(index)\n",
    "    if 65<=value<=90:\n",
    "        up=up+1\n",
    "    elif 97<=value<=122:\n",
    "        low=low+1\n",
    "if low>up or low==up:\n",
    "    string=string.lower()\n",
    "else:\n",
    "    string=string.upper()\n",
    "print(string)"
   ]
  },
  {
   "cell_type": "code",
   "execution_count": 11,
   "metadata": {},
   "outputs": [
    {
     "name": "stdout",
     "output_type": "stream",
     "text": [
      "Enter a string:Hello\n",
      "WORD\n"
     ]
    }
   ],
   "source": [
    "#task_2\n",
    "string=input('Enter a string:')\n",
    "number=0\n",
    "word=0\n",
    "for index in string:\n",
    "    value=ord(index)\n",
    "    if 48<=value<=57:\n",
    "        number=number+1\n",
    "    elif 65<=value<=90 or 97<=value<=122:\n",
    "        word=word+1\n",
    "if word==0:\n",
    "    print('NUMBER')\n",
    "elif number==0:\n",
    "    print('WORD')\n",
    "else:\n",
    "    print('MIXED')"
   ]
  },
  {
   "cell_type": "code",
   "execution_count": 13,
   "metadata": {},
   "outputs": [
    {
     "name": "stdout",
     "output_type": "stream",
     "text": [
      "Enter a string:coDIng\n",
      "BLANK\n",
      "\n"
     ]
    }
   ],
   "source": [
    "#task_3\n",
    "string=input('Enter a string:')\n",
    "blank=''\n",
    "for index in range(len(string)):\n",
    "    if string[index].isupper():\n",
    "        blank=blank+string[index]\n",
    "if len(blank)==2:\n",
    "    final=string[(string.index(blank[0]))+1:string.index(blank[1])]\n",
    "if final=='':\n",
    "    print(\"BLANK\")\n",
    "print(final)"
   ]
  },
  {
   "cell_type": "code",
   "execution_count": 15,
   "metadata": {},
   "outputs": [
    {
     "name": "stdout",
     "output_type": "stream",
     "text": [
      "Enter a string:This book is good too!\n",
      "This book is good too!\n"
     ]
    }
   ],
   "source": [
    "#task_4\n",
    "string=input('Enter a string:')\n",
    "if 'too good' in string:\n",
    "    string=string.replace('too good','excellent')\n",
    "print(string)"
   ]
  },
  {
   "cell_type": "code",
   "execution_count": 17,
   "metadata": {},
   "outputs": [
    {
     "name": "stdout",
     "output_type": "stream",
     "text": [
      "Enter the first string:dean\n",
      "Enter the second string:tom\n",
      "Nothing in common.\n"
     ]
    }
   ],
   "source": [
    "#task_5\n",
    "string1=input('Enter the first string:')\n",
    "string2=input('Enter the second string:')\n",
    "string3=''\n",
    "for index in string1:\n",
    "    if index in string2:\n",
    "        string3=string3+index\n",
    "for index in string2:\n",
    "    if index in string1:\n",
    "        string3=string3+index\n",
    "if string3=='':\n",
    "    print('Nothing in common.')\n",
    "else:\n",
    "    print(string3)"
   ]
  },
  {
   "cell_type": "code",
   "execution_count": 20,
   "metadata": {},
   "outputs": [
    {
     "name": "stdout",
     "output_type": "stream",
     "text": [
      "Enter your new password:OhMyBR@CU20\n",
      "OK\n"
     ]
    }
   ],
   "source": [
    "#task_6\n",
    "string=input('Enter your new password:')\n",
    "final=''\n",
    "counter1=0\n",
    "counter2=0\n",
    "counter3=0\n",
    "counter4=0\n",
    "for index in string:\n",
    "    value=ord(index)\n",
    "    if 65<=value<=90:\n",
    "        counter1=counter1+1\n",
    "    elif 97<=value<=122:\n",
    "        counter2=counter2+1\n",
    "    elif 48<=value<=57:\n",
    "        counter3=counter3+1\n",
    "    elif value==35 or value==36 or value==64 or value==95:\n",
    "        counter4=counter4+1\n",
    "if counter1==0:\n",
    "    final=final+'Uppercase character missing'+','\n",
    "if counter2==0:\n",
    "    final=final+'Lowercase character missing'+','\n",
    "if counter3==0:\n",
    "    final=final+'Digit missing'+','\n",
    "if counter4==0:\n",
    "    final=final+'Special character missing'+','\n",
    "if final!='' and final[-1]==',':\n",
    "    final=final[:-1]\n",
    "    print(final)\n",
    "else:\n",
    "    print('OK')"
   ]
  },
  {
   "cell_type": "markdown",
   "metadata": {},
   "source": [
    "# List related problems"
   ]
  },
  {
   "cell_type": "code",
   "execution_count": 21,
   "metadata": {},
   "outputs": [
    {
     "name": "stdout",
     "output_type": "stream",
     "text": [
      "Enter the numbers one by one:10\n",
      "Enter the numbers one by one:20\n",
      "Enter the numbers one by one:20\n",
      "Enter the numbers one by one:30\n",
      "Enter the numbers one by one:10\n",
      "Enter the numbers one by one:50\n",
      "Enter the numbers one by one:90\n",
      "Enter the numbers one by one:STOP\n",
      "10 - 2 times\n",
      "20 - 2 times\n",
      "30 - 1 times\n",
      "50 - 1 times\n",
      "90 - 1 times\n"
     ]
    }
   ],
   "source": [
    "#task_1\n",
    "list1=[]\n",
    "list2=[]\n",
    "while True:\n",
    "    number=input('Enter the numbers one by one:')\n",
    "    if number=='STOP':\n",
    "        break\n",
    "    list1.append(number)\n",
    "for index in range(len(list1)):\n",
    "    if list1[index] not in list2:\n",
    "        list2.append(list1[index])\n",
    "for index in range(len(list2)):\n",
    "    times=list1.count(list2[index])\n",
    "    print(list2[index],'-',times,'times')"
   ]
  },
  {
   "cell_type": "code",
   "execution_count": 24,
   "metadata": {},
   "outputs": [
    {
     "name": "stdout",
     "output_type": "stream",
     "text": [
      "Enter the number of lists you will input:4\n",
      "Enter all the numbers:1 2 3\n",
      "Enter all the numbers:4 5 6\n",
      "Enter all the numbers:10 11 12\n",
      "Enter all the numbers:7 8 9\n",
      "33\n",
      "[10, 11, 12]\n"
     ]
    }
   ],
   "source": [
    "#task_2\n",
    "list1=[]\n",
    "list2=[]\n",
    "list3=[]\n",
    "sum1=0\n",
    "n_list=int(input('Enter the number of lists you will input:'))\n",
    "for index in range(n_list):\n",
    "    numbers=input('Enter all the numbers:')\n",
    "    list1=numbers.split()\n",
    "    list3.append(list1)\n",
    "    for index in list1:\n",
    "        sum1=sum1+int(index)\n",
    "    list2.append(sum1)\n",
    "    sum1=0\n",
    "maximum=max(list2)\n",
    "maximum_list=list3[list2.index(maximum)]\n",
    "for index in range(len(maximum_list)):\n",
    "    maximum_list[index]=int(maximum_list[index])\n",
    "print(maximum)\n",
    "print(maximum_list)"
   ]
  },
  {
   "cell_type": "code",
   "execution_count": 25,
   "metadata": {},
   "outputs": [
    {
     "name": "stdout",
     "output_type": "stream",
     "text": [
      "Enter the first list:2 3 6\n",
      "Enter the second list:3 4 5\n",
      "[6, 8, 10, 9, 12, 15, 18, 24, 30]\n"
     ]
    }
   ],
   "source": [
    "#task_3\n",
    "list1=input('Enter the first list:').split()\n",
    "list2=input('Enter the second list:').split()\n",
    "multi_list=[]\n",
    "for index1 in list1:\n",
    "    for index2 in list2:\n",
    "        number=int(index1)*int(index2)\n",
    "        multi_list.append(number)\n",
    "print(multi_list)"
   ]
  },
  {
   "cell_type": "code",
   "execution_count": 26,
   "metadata": {},
   "outputs": [
    {
     "name": "stdout",
     "output_type": "stream",
     "text": [
      "Enter all the numbers:1 4 2 3\n",
      "UB Jumper\n",
      "Enter all the numbers:2 1 4 6 10\n",
      "UB Jumper\n",
      "Enter all the numbers:1 4 2 -1 6\n",
      "Not UB Jumper\n",
      "Enter all the numbers:STOP\n"
     ]
    }
   ],
   "source": [
    "#task_4\n",
    "while True:\n",
    "    list1=[]\n",
    "    list2=[]\n",
    "    check=False\n",
    "    number=input('Enter all the numbers:')\n",
    "    if number=='STOP':\n",
    "        break\n",
    "    list1=number.split()\n",
    "    for index in range(len(list1)-1):\n",
    "        value=abs(int(list1[index])-int(list1[index+1]))\n",
    "        list2.append(value)\n",
    "    for index in range(len(list2)):\n",
    "        if list2[index]<=len(list2):\n",
    "            continue\n",
    "        else:\n",
    "            check=True\n",
    "            break\n",
    "    if check==True:\n",
    "        print('Not UB Jumper')\n",
    "    else:\n",
    "        print('UB Jumper')"
   ]
  },
  {
   "cell_type": "code",
   "execution_count": 27,
   "metadata": {},
   "outputs": [
    {
     "name": "stdout",
     "output_type": "stream",
     "text": [
      "Enter a string:Bracu1234\n",
      "acruB1324"
     ]
    }
   ],
   "source": [
    "#task_5\n",
    "low_list=[]\n",
    "up_list=[]\n",
    "odd_list=[]\n",
    "even_list=[]\n",
    "final_list=[]\n",
    "word=input('Enter a string:')\n",
    "for index in word:\n",
    "    if index.islower():\n",
    "        low_list.append(index)\n",
    "    elif index.isupper():\n",
    "        up_list.append(index)\n",
    "    elif int(index)%2!=0:\n",
    "        odd_list.append(index)\n",
    "    else:\n",
    "        even_list.append(index)\n",
    "final_list=sorted(low_list)+sorted(up_list)+sorted(odd_list)+sorted(even_list)\n",
    "for index in final_list:\n",
    "    print(index,end='')"
   ]
  },
  {
   "cell_type": "code",
   "execution_count": 30,
   "metadata": {},
   "outputs": [
    {
     "name": "stdout",
     "output_type": "stream",
     "text": [
      "Enter the first two numbers:6 5\n",
      "Enter the numbers of participation:0 0 0 0 0 0\n",
      "2\n"
     ]
    }
   ],
   "source": [
    "#task_6\n",
    "count=0\n",
    "list1=input('Enter the first two numbers:').split()\n",
    "list2=input('Enter the numbers of participation:').split()\n",
    "for index in list2:\n",
    "    if 5-int(index)>=int(list1[1]):\n",
    "        count=count+1\n",
    "max_teams=count//3\n",
    "print(max_teams)"
   ]
  },
  {
   "cell_type": "markdown",
   "metadata": {},
   "source": [
    "# Dictionary & Tuple related problems"
   ]
  },
  {
   "cell_type": "code",
   "execution_count": 37,
   "metadata": {
    "scrolled": false
   },
   "outputs": [
    {
     "name": "stdout",
     "output_type": "stream",
     "text": [
      "Enter the keys and values of first dictionary:a: 100, b: 100, c: 200, d: 300\n",
      "Enter the keys and values of first dictionary:a: 300, b: 200, d: 400, e: 200\n",
      "{'a': 400, ' b': 300, ' c': 200, ' d': 700, ' e': 200}\n",
      "Values: (200, 300, 400, 700)\n"
     ]
    }
   ],
   "source": [
    "#task_1\n",
    "list1=[]\n",
    "list2=[]\n",
    "list3=[]\n",
    "list4=[]\n",
    "dict1={}\n",
    "dict2={}\n",
    "dict3={}\n",
    "string1=input('Enter the keys and values of first dictionary:')\n",
    "string2=input('Enter the keys and values of first dictionary:')\n",
    "string1=string1.split(',')\n",
    "string2=string2.split(',')\n",
    "for index in string1:\n",
    "    index=index.split(':')\n",
    "    list1.append(index)\n",
    "    for index in range(len(list1)):\n",
    "        dict1[list1[index][0]]=int(list1[index][1])\n",
    "for index in string2:\n",
    "    index=index.split(':')\n",
    "    list2.append(index)\n",
    "    for index in range(len(list2)):\n",
    "        dict2[list2[index][0]]=int(list2[index][1])\n",
    "dict3.update(dict1)\n",
    "for key in dict2:\n",
    "    if key in dict3:\n",
    "        dict3[key]=dict3[key]+dict2[key] \n",
    "    else:\n",
    "        dict3[key]=dict2[key] \n",
    "for value in dict3.values():\n",
    "    list3.append(value)\n",
    "for index in list3:\n",
    "    if index not in list4:\n",
    "        list4.append(index)\n",
    "list4.sort()\n",
    "values=tuple(list4)\n",
    "print(dict3)\n",
    "print('Values:',values)"
   ]
  },
  {
   "cell_type": "code",
   "execution_count": 34,
   "metadata": {},
   "outputs": [
    {
     "name": "stdout",
     "output_type": "stream",
     "text": [
      "Enter the numbers one by one:10\n",
      "Enter the numbers one by one:20\n",
      "Enter the numbers one by one:20\n",
      "Enter the numbers one by one:30\n",
      "Enter the numbers one by one:10\n",
      "Enter the numbers one by one:50\n",
      "Enter the numbers one by one:90\n",
      "Enter the numbers one by one:STOP\n",
      "10 - 2 times\n",
      "20 - 2 times\n",
      "30 - 1 times\n",
      "50 - 1 times\n",
      "90 - 1 times\n"
     ]
    }
   ],
   "source": [
    "#task_2\n",
    "list1=[]\n",
    "dict1={}\n",
    "while True:\n",
    "    number=input('Enter the numbers one by one:')\n",
    "    if number=='STOP':\n",
    "        break\n",
    "    list1.append(number)\n",
    "for index in list1:\n",
    "    if index in dict1:\n",
    "        dict1[index]=dict1[index]+1\n",
    "    else:\n",
    "        dict1[index]=1\n",
    "for key,value in dict1.items():\n",
    "    print(key,'-',value,'times')"
   ]
  },
  {
   "cell_type": "code",
   "execution_count": 33,
   "metadata": {},
   "outputs": [
    {
     "name": "stdout",
     "output_type": "stream",
     "text": [
      "Enter the keys and values of the dictionary:key1:value1,key2:value2,key3:value1\n",
      "{'value1': ['key1', 'key3'], 'value2': ['key2']}\n"
     ]
    }
   ],
   "source": [
    "#task_3\n",
    "list1=[]\n",
    "list2=[]\n",
    "dict1={}\n",
    "string=input('Enter the keys and values of the dictionary:')\n",
    "string=string.split(',')\n",
    "for index in string:\n",
    "    index=index.split(':')\n",
    "    list1.append(index)\n",
    "for key,value in list1:\n",
    "    if value in dict1:\n",
    "        dict1[value].append(key)\n",
    "    else:\n",
    "        list2.append(key)\n",
    "        dict1[value]=list2\n",
    "        list2=[]\n",
    "print(dict1)"
   ]
  },
  {
   "cell_type": "code",
   "execution_count": 32,
   "metadata": {},
   "outputs": [
    {
     "name": "stdout",
     "output_type": "stream",
     "text": [
      "Enter the first word:evil\n",
      "Enter the second word:live\n",
      "Those strings are anagrams.\n"
     ]
    }
   ],
   "source": [
    "#task_4\n",
    "dict1={}\n",
    "dict2={}\n",
    "word1=input('Enter the first word:')\n",
    "word2=input('Enter the second word:')\n",
    "list1=list(word1)\n",
    "list2=list(word2)\n",
    "for index in list1:\n",
    "    if index in dict1:\n",
    "        dict1[index]=dict1[index]+1\n",
    "    else:\n",
    "        dict1[index]=1\n",
    "for index in list2:\n",
    "    if index in dict2:\n",
    "        dict2[index]=dict2[index]+1\n",
    "    else:\n",
    "        dict2[index]=1\n",
    "if dict1==dict2 and word1!=word2:\n",
    "    print('Those strings are anagrams.')\n",
    "else:\n",
    "    print('Those strings are not anagrams.')"
   ]
  },
  {
   "cell_type": "code",
   "execution_count": 31,
   "metadata": {},
   "outputs": [
    {
     "name": "stdout",
     "output_type": "stream",
     "text": [
      "Enter a string:Hello, World!\n",
      "4433555555666110966677755531111\n"
     ]
    }
   ],
   "source": [
    "#task_5\n",
    "string2=''\n",
    "string1=input('Enter a string:').lower()\n",
    "dict1={'.':'1',',':'11','?':'111','!':'1111',':':'11111','a':'2','b':'22','c':'222','d':'3','e':'33','f':'333','g':'4','h':'44','i':'444','j':'5','k':'55','l':'555','m':'6','n':'66','o':'666','p':'7','q':'77','r':'777','s':'7777','t':'8','u':'88','v':'888','w':'9','x':'99','y':'999','z':'9999',' ':'0'}\n",
    "for index in string1:\n",
    "    if index in dict1.keys():\n",
    "        string2=string2+dict1[index]\n",
    "print(string2)"
   ]
  }
 ],
 "metadata": {
  "kernelspec": {
   "display_name": "Python 3",
   "language": "python",
   "name": "python3"
  },
  "language_info": {
   "codemirror_mode": {
    "name": "ipython",
    "version": 3
   },
   "file_extension": ".py",
   "mimetype": "text/x-python",
   "name": "python",
   "nbconvert_exporter": "python",
   "pygments_lexer": "ipython3",
   "version": "3.8.3"
  }
 },
 "nbformat": 4,
 "nbformat_minor": 4
}
