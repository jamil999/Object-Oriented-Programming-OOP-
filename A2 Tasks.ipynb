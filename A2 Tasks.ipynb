{
 "cells": [
  {
   "cell_type": "code",
   "execution_count": 37,
   "metadata": {},
   "outputs": [
    {
     "name": "stdout",
     "output_type": "stream",
     "text": [
      "0\n"
     ]
    }
   ],
   "source": [
    "#task_1 \n",
    "def fraction_part(num1,num2): \n",
    "    try:\n",
    "        add='0'\n",
    "        divide=num1/num2\n",
    "        divide=str(divide)\n",
    "        for index in range(len(divide)):\n",
    "            if divide[index]=='.':\n",
    "                add=add+divide[index:]\n",
    "            if divide[0]=='0':\n",
    "                break\n",
    "        return add\n",
    "    except ZeroDivisionError:\n",
    "        return 0\n",
    "print(fraction_part(0,5))"
   ]
  },
  {
   "cell_type": "code",
   "execution_count": 36,
   "metadata": {},
   "outputs": [
    {
     "name": "stdout",
     "output_type": "stream",
     "text": [
      "Score is 31.3 .You are Obese\n"
     ]
    }
   ],
   "source": [
    "#task_2\n",
    "def AmiKenoMota(num1,num2):\n",
    "    BMI=num2/(num1/100)**2\n",
    "    new_BMI='%.1f' % BMI\n",
    "    new_BMI=float(new_BMI)\n",
    "    if new_BMI<18.5:\n",
    "        print('Score is',new_BMI,'.You are Underweight')\n",
    "    elif 18.5<=new_BMI<=24.9:\n",
    "        print('Score is',new_BMI,'.You are Normal')\n",
    "    elif 25<=new_BMI<=30:\n",
    "        print('Score is',new_BMI,'.You are Overweignt')\n",
    "    elif new_BMI>=30:\n",
    "        print('Score is',new_BMI,'.You are Obese')\n",
    "AmiKenoMota(175,96)"
   ]
  },
  {
   "cell_type": "code",
   "execution_count": 35,
   "metadata": {},
   "outputs": [
    {
     "name": "stdout",
     "output_type": "stream",
     "text": [
      "45\n"
     ]
    }
   ],
   "source": [
    "#task_3\n",
    "def divisible_nums(num1,num2,num3):\n",
    "    sum_1=0\n",
    "    for index in range(num1,num2):\n",
    "        if index%num3==0:\n",
    "                sum_1=sum_1+index\n",
    "    return sum_1\n",
    "print(divisible_nums(3,16,3))"
   ]
  },
  {
   "cell_type": "code",
   "execution_count": 34,
   "metadata": {},
   "outputs": [
    {
     "name": "stdout",
     "output_type": "stream",
     "text": [
      "223.6\n"
     ]
    }
   ],
   "source": [
    "#task_4\n",
    "def price_calculator(your_order,home='mohakhali'):\n",
    "    dict1={'BBQ Chicken Cheese Burger':250,'Beef Burger':170,'Naga Drums':200}\n",
    "    sum_1=0\n",
    "    sum_1=sum_1+dict1[your_order]\n",
    "    if home=='mohakhali':\n",
    "        sum_1=+sum_1+(sum_1*.08)+40\n",
    "    else:\n",
    "        sum_1=+sum_1+(sum_1*.08)+60\n",
    "    return sum_1\n",
    "print(price_calculator('Beef Burger'))"
   ]
  },
  {
   "cell_type": "code",
   "execution_count": 33,
   "metadata": {},
   "outputs": [
    {
     "name": "stdout",
     "output_type": "stream",
     "text": [
      "Unchanged: bob@sheba.xyz\n"
     ]
    }
   ],
   "source": [
    "#task_5\n",
    "def domain_changer(*adress):\n",
    "    checker=False\n",
    "    new_domain='@sheba.xyz'\n",
    "    variable=''\n",
    "    for index in range(len(adress)):\n",
    "        search=adress[index].find('@')\n",
    "        if adress[index][search]=='@':\n",
    "            for index1 in range(len(adress[index])):\n",
    "                if adress[index][search:]==new_domain:\n",
    "                    print('Unchanged:',adress[index])\n",
    "                    checker=True\n",
    "                    break\n",
    "                if adress[index][index1]=='@':\n",
    "                    break\n",
    "                else:\n",
    "                    variable=variable+adress[index][index1]\n",
    "    changed_domain=variable+new_domain\n",
    "    if checker==True:\n",
    "        pass\n",
    "    else:\n",
    "        print('Changed:',changed_domain)\n",
    "domain_changer('bob@sheba.xyz','sheba.xyz')"
   ]
  },
  {
   "cell_type": "code",
   "execution_count": 32,
   "metadata": {},
   "outputs": [
    {
     "name": "stdout",
     "output_type": "stream",
     "text": [
      "Vowels: e,e,o. Total number of vowels: 3\n"
     ]
    }
   ],
   "source": [
    "#task_6\n",
    "def vowel_finder(word):\n",
    "    variable1=''\n",
    "    variable2=''\n",
    "    list1=[]\n",
    "    for index in word:\n",
    "        if index=='A' or index=='a':\n",
    "            list1.append(index)\n",
    "        if index=='E' or index=='e':\n",
    "            list1.append(index)\n",
    "        if index=='I' or index=='i':\n",
    "            list1.append(index)\n",
    "        if index=='O' or index=='o':\n",
    "            list1.append(index)\n",
    "        if index=='U' or index=='u':\n",
    "            list1.append(index)\n",
    "    if len(list1)>0:\n",
    "        for index in range(len(list1)):\n",
    "            if index==len(list1)-1:\n",
    "                variable1=list1[index]+variable1+'.'\n",
    "            else:\n",
    "                variable2=list1[index]+','+variable2\n",
    "            total=variable2+variable1\n",
    "        print('Vowels:',total,'Total number of vowels:',len(list1))\n",
    "            \n",
    "    else:\n",
    "        print('No vowels in the name')\n",
    "vowel_finder('Steve Jobs')"
   ]
  },
  {
   "cell_type": "code",
   "execution_count": 3,
   "metadata": {},
   "outputs": [
    {
     "name": "stdout",
     "output_type": "stream",
     "text": [
      "Palindrome\n"
     ]
    }
   ],
   "source": [
    "#task_7\n",
    "def palindrome_checker(word):\n",
    "    variable=''\n",
    "    for index in word:\n",
    "        if index==' ':\n",
    "            continue\n",
    "        else:\n",
    "            variable=variable+index\n",
    "    if variable==variable[::-1]:\n",
    "        print('Palindrome')\n",
    "    else:\n",
    "        print('Not a palindrome')\n",
    "palindrome_checker('nurses run') "
   ]
  },
  {
   "cell_type": "code",
   "execution_count": 4,
   "metadata": {},
   "outputs": [
    {
     "name": "stdout",
     "output_type": "stream",
     "text": [
      "Enter total days:4000\n",
      "10 years, 11 months and 20 days\n"
     ]
    }
   ],
   "source": [
    "#task_8\n",
    "total_days=int(input('Enter total days:'))\n",
    "\n",
    "def time_calculator(total_days):\n",
    "    years=total_days//365\n",
    "    total_days=total_days%365\n",
    "    months=total_days//30\n",
    "    total_days=total_days%30\n",
    "    days=total_days\n",
    "\n",
    "    print(years,'years,',months,'months and',days,'days')\n",
    "    \n",
    "time_calculator(total_days)"
   ]
  },
  {
   "cell_type": "code",
   "execution_count": 2,
   "metadata": {},
   "outputs": [
    {
     "name": "stdout",
     "output_type": "stream",
     "text": [
      "My favourite animal is a dog. A dog has sharp teeth so that it can eat flesh very easily. Do you know my pet dog’s name? I love my pet very much. \n"
     ]
    }
   ],
   "source": [
    "#task_9\n",
    "def correctly_capitalized(paragraph):\n",
    "    variable=''\n",
    "    make_upper=''\n",
    "    paragraph=paragraph.split()\n",
    "    paragraph[0]=paragraph[0][0].upper()+paragraph[0][1:]\n",
    "    for index in range(len(paragraph)-1):\n",
    "        if '.' in paragraph[index] or '!' in paragraph[index] or '?' in paragraph[index]:\n",
    "            upper1=paragraph[index+1][0].upper()+paragraph[index+1][1:]\n",
    "            paragraph[index+1]=upper1\n",
    "    for index in paragraph:\n",
    "        variable=variable+index+' '\n",
    "    return variable\n",
    "print(correctly_capitalized('my favourite animal is a dog. a dog has sharp teeth so that it can eat flesh very easily. do you know my pet dog’s name? i love my pet very much.'))"
   ]
  },
  {
   "cell_type": "code",
   "execution_count": null,
   "metadata": {},
   "outputs": [],
   "source": []
  }
 ],
 "metadata": {
  "kernelspec": {
   "display_name": "Python 3",
   "language": "python",
   "name": "python3"
  },
  "language_info": {
   "codemirror_mode": {
    "name": "ipython",
    "version": 3
   },
   "file_extension": ".py",
   "mimetype": "text/x-python",
   "name": "python",
   "nbconvert_exporter": "python",
   "pygments_lexer": "ipython3",
   "version": "3.8.3"
  }
 },
 "nbformat": 4,
 "nbformat_minor": 4
}
